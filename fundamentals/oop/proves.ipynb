{
 "cells": [
  {
   "cell_type": "code",
   "execution_count": 8,
   "metadata": {},
   "outputs": [
    {
     "name": "stdout",
     "output_type": "stream",
     "text": [
      "Issufficient Funds\n",
      "Issufficient Funds\n",
      "Balance: $231.0\n",
      "Balance: $113.63\n"
     ]
    },
    {
     "data": {
      "text/plain": [
       "344.63"
      ]
     },
     "execution_count": 8,
     "metadata": {},
     "output_type": "execute_result"
    }
   ],
   "source": [
    "class BankAccount:\n",
    "\n",
    "    all_accounts = []\n",
    "\n",
    "    def __init__(self, account_balance, interest):\n",
    "        self.account_balance = account_balance\n",
    "        self.interest = interest\n",
    "        BankAccount.all_accounts.append(self)\n",
    "\n",
    "\n",
    "    def deposit(self, amount):\n",
    "        self.account_balance += amount\n",
    "        return self\n",
    "\n",
    "\n",
    "    def withdraw(self, amount):\n",
    "        if (self.account_balance-amount>0):\n",
    "            self.account_balance -= amount\n",
    "        else:\n",
    "            print(\"Issufficient Funds\")\n",
    "            self.account_balance -= 5\n",
    "        return self\n",
    "\n",
    "\n",
    "    def yield_interest(self):\n",
    "        self.account_balance += self.account_balance*self.interest\n",
    "\n",
    "\n",
    "    def display_account_info(self):\n",
    "        print(f\"Balance: ${self.account_balance}\")\n",
    "\n",
    "    @classmethod\n",
    "    def all_balances(cls):\n",
    "        sum = 0\n",
    "        # we use cls to refer to the class\n",
    "        for account in cls.all_accounts:\n",
    "            sum += account.account_balance\n",
    "        return sum\n",
    "\n",
    "guido = BankAccount(0,0.05)\n",
    "monty = BankAccount(200,0.033)\n",
    "\n",
    "guido.deposit(200).deposit(300).deposit(150).withdraw(430).yield_interest()\n",
    "monty.deposit(200).deposit(300).withdraw(150).withdraw(430).withdraw(230).withdraw(130).yield_interest()\n",
    "\n",
    "guido.display_account_info()\n",
    "monty.display_account_info()\n",
    "\n",
    "BankAccount.all_balances()"
   ]
  }
 ],
 "metadata": {
  "kernelspec": {
   "display_name": "Python 3",
   "language": "python",
   "name": "python3"
  },
  "language_info": {
   "codemirror_mode": {
    "name": "ipython",
    "version": 3
   },
   "file_extension": ".py",
   "mimetype": "text/x-python",
   "name": "python",
   "nbconvert_exporter": "python",
   "pygments_lexer": "ipython3",
   "version": "3.11.2"
  },
  "orig_nbformat": 4
 },
 "nbformat": 4,
 "nbformat_minor": 2
}
